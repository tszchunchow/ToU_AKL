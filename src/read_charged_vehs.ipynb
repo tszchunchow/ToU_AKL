{
 "cells": [
  {
   "cell_type": "code",
   "execution_count": 2,
   "metadata": {},
   "outputs": [],
   "source": [
    "import os\n",
    "import pandas as pd\n",
    "import geopandas as gpd\n",
    "from utils import *\n",
    "import zipfile"
   ]
  },
  {
   "cell_type": "code",
   "execution_count": 29,
   "metadata": {},
   "outputs": [],
   "source": [
    "charged_veh_zip = '../inputs/charged_vehicles/012_Tolled_Veh_Data.zip'\n",
    "charged_veh_dfs = []\n",
    "\n",
    "with zipfile.ZipFile(charged_veh_zip , 'r') as z:\n",
    "    for f_dir in z.namelist():\n",
    "        if f_dir.endswith('.csv'):\n",
    "            with z.open(f_dir) as f:\n",
    "                temp_df = pd.read_csv(f, skiprows=9, index_col=0)[:3].reset_index()\n",
    "                temp_col = temp_df.columns.tolist()[1:] + ['-']\n",
    "                temp_df.columns = temp_col\n",
    "                temp_df = temp_df.drop(columns=['-'])\n",
    "\n",
    "                charged_veh_dfs.append(temp_df)\n",
    "\n",
    "charged_veh_df = pd.concat(charged_veh_dfs)\n",
    "charged_veh_df['slot_no'] = charged_veh_df['Scenario_No'].astype(str).str[-2:].astype(int)\n",
    "\n",
    "charged_veh_df.to_csv('../outputs/charged_vehs/charged_vehs_p2-1.csv', index=None)"
   ]
  },
  {
   "cell_type": "code",
   "execution_count": 13,
   "metadata": {},
   "outputs": [],
   "source": [
    "def mx_to_ijk(df, metrics, slot_no):\n",
    "    df = pd.melt(df, id_vars = ['origin'], \n",
    "                value_vars = df.columns.tolist().remove('origin'), \n",
    "                var_name = 'destination', \n",
    "                value_name = f'{metrics}')\n",
    "    df['slot_no'] = slot_no\n",
    "    df['scenario'] = REVERSE_SCENARIO_MAP[slot_no]\n",
    "    return df"
   ]
  },
  {
   "cell_type": "code",
   "execution_count": 15,
   "metadata": {},
   "outputs": [],
   "source": [
    "charged_veh_zip = '../inputs/charged_vehicles/Number_of_vehicles_charged_PM.zip'\n",
    "charged_veh_dfs = []\n",
    "\n",
    "with zipfile.ZipFile(charged_veh_zip , 'r') as z:\n",
    "    for f_dir in z.namelist():\n",
    "        if f_dir.endswith('.csv'):\n",
    "            for scenario in SCENARIO_MAP:\n",
    "                slot_no = SCENARIO_MAP[scenario]\n",
    "                model_code = f\"263{str(slot_no)}\"\n",
    "                if model_code in f_dir:\n",
    "                    with z.open(f_dir) as f:\n",
    "                        temp_df = pd.read_csv(f, skiprows=10).rename(columns={'p/q/[val]': 'origin'})\n",
    "                        temp_df = mx_to_ijk(temp_df, \"Charged_Veh_PM\", slot_no)\n",
    "                        temp_df['origin'] = temp_df['origin'].astype(int)\n",
    "                        temp_df['destination'] = temp_df['destination'].astype(int)\n",
    "                        charged_veh_dfs.append(temp_df)\n",
    "\n",
    "charged_veh_df = pd.concat(charged_veh_dfs)"
   ]
  },
  {
   "cell_type": "code",
   "execution_count": 17,
   "metadata": {},
   "outputs": [],
   "source": [
    "charged_veh_df.to_csv('../outputs/charged_vehs/chargedveh_pm_od.csv', index=None)\n",
    "charged_veh_df.groupby(['origin', 'slot_no','scenario']\n",
    "                       ).agg({'Charged_Veh_PM':'sum'}\n",
    "                             ).reset_index().to_csv('../outputs/charged_vehs/chargedveh_pm_o.csv', index=None)\n",
    "charged_veh_df.groupby(['destination', 'slot_no','scenario']\n",
    "                       ).agg({'Charged_Veh_PM':'sum'}\n",
    "                             ).reset_index().to_csv('../outputs/charged_vehs/chargedveh_pm_d.csv', index=None)"
   ]
  },
  {
   "cell_type": "markdown",
   "metadata": {},
   "source": [
    "WITH TOLL BANDS"
   ]
  },
  {
   "cell_type": "code",
   "execution_count": 9,
   "metadata": {},
   "outputs": [],
   "source": [
    "charged_veh_zip = '../inputs/charged_vehicles/015_Tolled_Band_Veh_Skim_NG.zip'\n",
    "charged_veh_band_dfs = []\n",
    "\n",
    "with zipfile.ZipFile(charged_veh_zip , 'r') as z:\n",
    "    for f_dir in z.namelist():\n",
    "        if f_dir.endswith('.csv'):\n",
    "            with z.open(f_dir) as f:\n",
    "                temp_df = pd.read_csv(f, skiprows=10, index_col=0)[:42].reset_index()\n",
    "                temp_col = temp_df.columns.tolist()[1:] + ['-']\n",
    "                temp_df.columns = temp_col\n",
    "                temp_df = temp_df.drop(columns=['-'])\n",
    "\n",
    "                charged_veh_band_dfs.append(temp_df)\n",
    "\n",
    "charged_veh_band_df = pd.concat(charged_veh_band_dfs)\n",
    "charged_veh_band_df['slot_no'] = charged_veh_band_df['Scenario_No'].astype(str).str[-2:].astype(int)\n",
    "\n",
    "charged_veh_band_df.to_csv('../outputs/charged_vehs/charged_vehs_band_p2-1.csv', index=None)"
   ]
  }
 ],
 "metadata": {
  "kernelspec": {
   "display_name": "akl-touch-KROpMQkL-py3.12",
   "language": "python",
   "name": "python3"
  },
  "language_info": {
   "codemirror_mode": {
    "name": "ipython",
    "version": 3
   },
   "file_extension": ".py",
   "mimetype": "text/x-python",
   "name": "python",
   "nbconvert_exporter": "python",
   "pygments_lexer": "ipython3",
   "version": "3.12.4"
  }
 },
 "nbformat": 4,
 "nbformat_minor": 2
}
